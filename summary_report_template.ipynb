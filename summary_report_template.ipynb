{
 "cells": [
  {
   "cell_type": "code",
   "execution_count": 106,
   "metadata": {
    "hideCode": true,
    "hidePrompt": true
   },
   "outputs": [],
   "source": [
    "# おまじない\n",
    "import matplotlib\n",
    "import pandas as pd\n",
    "import matplotlib.pyplot as plt\n",
    "import numpy as np\n",
    "import seaborn as sns\n",
    "%matplotlib inline  \n",
    "\n",
    "from IPython.display import display, HTML\n",
    "from IPython.core.interactiveshell import InteractiveShell\n",
    "InteractiveShell.ast_node_interactivity = \"all\""
   ]
  },
  {
   "cell_type": "code",
   "execution_count": 107,
   "metadata": {
    "hideCode": true,
    "hidePrompt": true,
    "tags": [
     "parameters"
    ]
   },
   "outputs": [],
   "source": [
    "# 今回のパラメーター. papermillはここをいじっている\n",
    "# data_path = \"analysis/mdb_test_out/phenotype.xlsx\"\n",
    "data_path = \"analysis/mdb_test_out/fuga.xlsx\""
   ]
  },
  {
   "cell_type": "code",
   "execution_count": 108,
   "metadata": {
    "hideCode": true,
    "hidePrompt": true
   },
   "outputs": [
    {
     "data": {
      "text/html": [
       " <span style='color:black'><h1>2017/03/01に取得したデータのサマリー</h1> </span>  "
      ],
      "text/plain": [
       "<IPython.core.display.HTML object>"
      ]
     },
     "execution_count": 108,
     "metadata": {},
     "output_type": "execute_result"
    }
   ],
   "source": [
    "# データの読み込み\n",
    "df_pre = pd.read_excel(data_path)\n",
    "df = df_pre.drop(labels=[\"_id\", \"date\", \"time\"], axis=1)\n",
    "\n",
    "dates = df_pre.date.unique()\n",
    "\n",
    "if len(dates)>1:\n",
    "    sentence = \"2日分以上のデータが混じっているようです。データを日付ごとに分けてください\"\n",
    "    HTML(f\" <span style='color:red'><h2>{sentence}</h2> </span>  \")\n",
    "\n",
    "# タイトル宣言\n",
    "HTML(f\" <span style='color:black'><h1>{dates[0]}に取得したデータのサマリー</h1> </span>  \")"
   ]
  },
  {
   "cell_type": "code",
   "execution_count": 77,
   "metadata": {
    "hideCode": true,
    "hidePrompt": true
   },
   "outputs": [],
   "source": [
    "# 集計のための関数を実行\n",
    "func = lambda x: pd.to_numeric(x, errors=\"ignore\").describe()\n",
    "\n",
    "df_summary_pre = df.groupby(\"item_name\")['value'].apply(func).reset_index().pivot(index='item_name', columns='level_1', values='value')\n",
    "\n",
    "base = [\"count\", \"mean\", \"std\", \"min\",\"25%\", \"50%\", \"75%\" , \"max\"]\n",
    "extra = [\"unique\", \"top\",\"freq\"]\n",
    "\n",
    "# 順番を決めるための関数\n",
    "order = lambda x: base+extra if (x==\"unique\").any() else base\n",
    "order_each = lambda x: extra if (x==\"unique\").any() else base\n",
    "\n",
    "\n",
    "df_summary = df_summary_pre.loc[:, order(df_summary_pre.columns)] "
   ]
  },
  {
   "cell_type": "code",
   "execution_count": null,
   "metadata": {
    "hideCode": true,
    "hidePrompt": true
   },
   "outputs": [],
   "source": []
  },
  {
   "cell_type": "code",
   "execution_count": 110,
   "metadata": {
    "hideCode": true,
    "hidePrompt": true
   },
   "outputs": [
    {
     "data": {
      "text/html": [
       " <span style='color:black'><h2>測定項目ごとの要約統計量</h2> </span>  "
      ],
      "text/plain": [
       "<IPython.core.display.HTML object>"
      ]
     },
     "execution_count": 110,
     "metadata": {},
     "output_type": "execute_result"
    },
    {
     "data": {
      "text/html": [
       "<div>\n",
       "<style scoped>\n",
       "    .dataframe tbody tr th:only-of-type {\n",
       "        vertical-align: middle;\n",
       "    }\n",
       "\n",
       "    .dataframe tbody tr th {\n",
       "        vertical-align: top;\n",
       "    }\n",
       "\n",
       "    .dataframe thead th {\n",
       "        text-align: right;\n",
       "    }\n",
       "</style>\n",
       "<table border=\"1\" class=\"dataframe\">\n",
       "  <thead>\n",
       "    <tr style=\"text-align: right;\">\n",
       "      <th>level_1</th>\n",
       "      <th>count</th>\n",
       "      <th>mean</th>\n",
       "      <th>std</th>\n",
       "      <th>min</th>\n",
       "      <th>25%</th>\n",
       "      <th>50%</th>\n",
       "      <th>75%</th>\n",
       "      <th>max</th>\n",
       "      <th>unique</th>\n",
       "      <th>top</th>\n",
       "      <th>freq</th>\n",
       "    </tr>\n",
       "    <tr>\n",
       "      <th>item_name</th>\n",
       "      <th></th>\n",
       "      <th></th>\n",
       "      <th></th>\n",
       "      <th></th>\n",
       "      <th></th>\n",
       "      <th></th>\n",
       "      <th></th>\n",
       "      <th></th>\n",
       "      <th></th>\n",
       "      <th></th>\n",
       "      <th></th>\n",
       "    </tr>\n",
       "  </thead>\n",
       "  <tbody>\n",
       "    <tr>\n",
       "      <th>PL</th>\n",
       "      <td>20</td>\n",
       "      <td>15.305</td>\n",
       "      <td>2.81284</td>\n",
       "      <td>10.4</td>\n",
       "      <td>13.475</td>\n",
       "      <td>15.9</td>\n",
       "      <td>17.525</td>\n",
       "      <td>19.8</td>\n",
       "      <td>None</td>\n",
       "      <td>None</td>\n",
       "      <td>None</td>\n",
       "    </tr>\n",
       "    <tr>\n",
       "      <th>SP</th>\n",
       "      <td>20</td>\n",
       "      <td>17.6071</td>\n",
       "      <td>3.31583</td>\n",
       "      <td>10.7364</td>\n",
       "      <td>15.8069</td>\n",
       "      <td>17.4673</td>\n",
       "      <td>19.0329</td>\n",
       "      <td>25.1506</td>\n",
       "      <td>None</td>\n",
       "      <td>None</td>\n",
       "      <td>None</td>\n",
       "    </tr>\n",
       "    <tr>\n",
       "      <th>fuga</th>\n",
       "      <td>5</td>\n",
       "      <td>None</td>\n",
       "      <td>None</td>\n",
       "      <td>None</td>\n",
       "      <td>None</td>\n",
       "      <td>None</td>\n",
       "      <td>None</td>\n",
       "      <td>None</td>\n",
       "      <td>1</td>\n",
       "      <td>fuga</td>\n",
       "      <td>5</td>\n",
       "    </tr>\n",
       "  </tbody>\n",
       "</table>\n",
       "</div>"
      ],
      "text/plain": [
       "level_1   count     mean      std      min      25%      50%      75%  \\\n",
       "item_name                                                               \n",
       "PL           20   15.305  2.81284     10.4   13.475     15.9   17.525   \n",
       "SP           20  17.6071  3.31583  10.7364  15.8069  17.4673  19.0329   \n",
       "fuga          5     None     None     None     None     None     None   \n",
       "\n",
       "level_1        max unique   top  freq  \n",
       "item_name                              \n",
       "PL            19.8   None  None  None  \n",
       "SP         25.1506   None  None  None  \n",
       "fuga          None      1  fuga     5  "
      ]
     },
     "execution_count": 110,
     "metadata": {},
     "output_type": "execute_result"
    }
   ],
   "source": [
    "HTML(f\" <span style='color:black'><h2>測定項目ごとの要約統計量</h2> </span>  \")\n",
    "df_summary"
   ]
  },
  {
   "cell_type": "code",
   "execution_count": 109,
   "metadata": {
    "hideCode": true,
    "hidePrompt": true
   },
   "outputs": [
    {
     "data": {
      "text/html": [
       " <span style='color:black'><h2>PLのサマリー</h2> </span>  "
      ],
      "text/plain": [
       "<IPython.core.display.HTML object>"
      ]
     },
     "execution_count": 109,
     "metadata": {},
     "output_type": "execute_result"
    },
    {
     "name": "stderr",
     "output_type": "stream",
     "text": [
      "/home/tomoaki_hori/anaconda3/lib/python3.6/site-packages/pandas/core/indexing.py:537: SettingWithCopyWarning: \n",
      "A value is trying to be set on a copy of a slice from a DataFrame.\n",
      "Try using .loc[row_indexer,col_indexer] = value instead\n",
      "\n",
      "See the caveats in the documentation: http://pandas.pydata.org/pandas-docs/stable/indexing.html#indexing-view-versus-copy\n",
      "  self.obj[item] = s\n"
     ]
    },
    {
     "data": {
      "text/html": [
       " <span style='color:black'><h3>プロットごとの要約統計量</h3> </span>  "
      ],
      "text/plain": [
       "<IPython.core.display.HTML object>"
      ]
     },
     "execution_count": 109,
     "metadata": {},
     "output_type": "execute_result"
    },
    {
     "data": {
      "text/html": [
       "<div>\n",
       "<style scoped>\n",
       "    .dataframe tbody tr th:only-of-type {\n",
       "        vertical-align: middle;\n",
       "    }\n",
       "\n",
       "    .dataframe tbody tr th {\n",
       "        vertical-align: top;\n",
       "    }\n",
       "\n",
       "    .dataframe thead th {\n",
       "        text-align: right;\n",
       "    }\n",
       "</style>\n",
       "<table border=\"1\" class=\"dataframe\">\n",
       "  <thead>\n",
       "    <tr style=\"text-align: right;\">\n",
       "      <th>level_1</th>\n",
       "      <th>count</th>\n",
       "      <th>mean</th>\n",
       "      <th>std</th>\n",
       "      <th>min</th>\n",
       "      <th>25%</th>\n",
       "      <th>50%</th>\n",
       "      <th>75%</th>\n",
       "      <th>max</th>\n",
       "    </tr>\n",
       "    <tr>\n",
       "      <th>plot_num</th>\n",
       "      <th></th>\n",
       "      <th></th>\n",
       "      <th></th>\n",
       "      <th></th>\n",
       "      <th></th>\n",
       "      <th></th>\n",
       "      <th></th>\n",
       "      <th></th>\n",
       "    </tr>\n",
       "  </thead>\n",
       "  <tbody>\n",
       "    <tr>\n",
       "      <th>1</th>\n",
       "      <td>4.0</td>\n",
       "      <td>15.35</td>\n",
       "      <td>1.52</td>\n",
       "      <td>13.8</td>\n",
       "      <td>14.18</td>\n",
       "      <td>15.40</td>\n",
       "      <td>16.58</td>\n",
       "      <td>16.8</td>\n",
       "    </tr>\n",
       "    <tr>\n",
       "      <th>2</th>\n",
       "      <td>4.0</td>\n",
       "      <td>14.20</td>\n",
       "      <td>2.75</td>\n",
       "      <td>11.2</td>\n",
       "      <td>12.40</td>\n",
       "      <td>14.10</td>\n",
       "      <td>15.90</td>\n",
       "      <td>17.4</td>\n",
       "    </tr>\n",
       "    <tr>\n",
       "      <th>3</th>\n",
       "      <td>4.0</td>\n",
       "      <td>15.35</td>\n",
       "      <td>3.69</td>\n",
       "      <td>11.0</td>\n",
       "      <td>13.02</td>\n",
       "      <td>15.65</td>\n",
       "      <td>17.98</td>\n",
       "      <td>19.1</td>\n",
       "    </tr>\n",
       "    <tr>\n",
       "      <th>4</th>\n",
       "      <td>4.0</td>\n",
       "      <td>15.23</td>\n",
       "      <td>3.52</td>\n",
       "      <td>10.4</td>\n",
       "      <td>13.70</td>\n",
       "      <td>16.30</td>\n",
       "      <td>17.83</td>\n",
       "      <td>17.9</td>\n",
       "    </tr>\n",
       "    <tr>\n",
       "      <th>5</th>\n",
       "      <td>4.0</td>\n",
       "      <td>16.40</td>\n",
       "      <td>3.32</td>\n",
       "      <td>11.9</td>\n",
       "      <td>15.27</td>\n",
       "      <td>16.95</td>\n",
       "      <td>18.08</td>\n",
       "      <td>19.8</td>\n",
       "    </tr>\n",
       "  </tbody>\n",
       "</table>\n",
       "</div>"
      ],
      "text/plain": [
       "level_1   count   mean   std   min    25%    50%    75%   max\n",
       "plot_num                                                     \n",
       "1           4.0  15.35  1.52  13.8  14.18  15.40  16.58  16.8\n",
       "2           4.0  14.20  2.75  11.2  12.40  14.10  15.90  17.4\n",
       "3           4.0  15.35  3.69  11.0  13.02  15.65  17.98  19.1\n",
       "4           4.0  15.23  3.52  10.4  13.70  16.30  17.83  17.9\n",
       "5           4.0  16.40  3.32  11.9  15.27  16.95  18.08  19.8"
      ]
     },
     "execution_count": 109,
     "metadata": {},
     "output_type": "execute_result"
    },
    {
     "data": {
      "text/html": [
       " <span style='color:black'><h3>プロットごとの分布</h3> </span>  "
      ],
      "text/plain": [
       "<IPython.core.display.HTML object>"
      ]
     },
     "execution_count": 109,
     "metadata": {},
     "output_type": "execute_result"
    },
    {
     "data": {
      "text/plain": [
       "<matplotlib.axes._subplots.AxesSubplot at 0x7f64792c8fd0>"
      ]
     },
     "execution_count": 109,
     "metadata": {},
     "output_type": "execute_result"
    },
    {
     "data": {
      "image/png": "[encoded data removed]",
      "text/plain": [
       "<Figure size 432x288 with 1 Axes>"
      ]
     },
     "metadata": {},
     "output_type": "display_data"
    },
    {
     "data": {
      "text/html": [
       " <span style='color:black'><h2>SPのサマリー</h2> </span>  "
      ],
      "text/plain": [
       "<IPython.core.display.HTML object>"
      ]
     },
     "execution_count": 109,
     "metadata": {},
     "output_type": "execute_result"
    },
    {
     "data": {
      "text/html": [
       " <span style='color:black'><h3>プロットごとの要約統計量</h3> </span>  "
      ],
      "text/plain": [
       "<IPython.core.display.HTML object>"
      ]
     },
     "execution_count": 109,
     "metadata": {},
     "output_type": "execute_result"
    },
    {
     "data": {
      "text/html": [
       "<div>\n",
       "<style scoped>\n",
       "    .dataframe tbody tr th:only-of-type {\n",
       "        vertical-align: middle;\n",
       "    }\n",
       "\n",
       "    .dataframe tbody tr th {\n",
       "        vertical-align: top;\n",
       "    }\n",
       "\n",
       "    .dataframe thead th {\n",
       "        text-align: right;\n",
       "    }\n",
       "</style>\n",
       "<table border=\"1\" class=\"dataframe\">\n",
       "  <thead>\n",
       "    <tr style=\"text-align: right;\">\n",
       "      <th>level_1</th>\n",
       "      <th>count</th>\n",
       "      <th>mean</th>\n",
       "      <th>std</th>\n",
       "      <th>min</th>\n",
       "      <th>25%</th>\n",
       "      <th>50%</th>\n",
       "      <th>75%</th>\n",
       "      <th>max</th>\n",
       "    </tr>\n",
       "    <tr>\n",
       "      <th>plot_num</th>\n",
       "      <th></th>\n",
       "      <th></th>\n",
       "      <th></th>\n",
       "      <th></th>\n",
       "      <th></th>\n",
       "      <th></th>\n",
       "      <th></th>\n",
       "      <th></th>\n",
       "    </tr>\n",
       "  </thead>\n",
       "  <tbody>\n",
       "    <tr>\n",
       "      <th>1</th>\n",
       "      <td>4.0</td>\n",
       "      <td>18.13</td>\n",
       "      <td>4.05</td>\n",
       "      <td>15.10</td>\n",
       "      <td>16.01</td>\n",
       "      <td>16.67</td>\n",
       "      <td>18.80</td>\n",
       "      <td>24.09</td>\n",
       "    </tr>\n",
       "    <tr>\n",
       "      <th>2</th>\n",
       "      <td>4.0</td>\n",
       "      <td>16.58</td>\n",
       "      <td>4.12</td>\n",
       "      <td>10.74</td>\n",
       "      <td>15.22</td>\n",
       "      <td>17.86</td>\n",
       "      <td>19.22</td>\n",
       "      <td>19.86</td>\n",
       "    </tr>\n",
       "    <tr>\n",
       "      <th>3</th>\n",
       "      <td>4.0</td>\n",
       "      <td>16.48</td>\n",
       "      <td>2.79</td>\n",
       "      <td>13.60</td>\n",
       "      <td>14.47</td>\n",
       "      <td>16.33</td>\n",
       "      <td>18.34</td>\n",
       "      <td>19.66</td>\n",
       "    </tr>\n",
       "    <tr>\n",
       "      <th>4</th>\n",
       "      <td>4.0</td>\n",
       "      <td>17.61</td>\n",
       "      <td>2.13</td>\n",
       "      <td>14.46</td>\n",
       "      <td>17.36</td>\n",
       "      <td>18.43</td>\n",
       "      <td>18.69</td>\n",
       "      <td>19.12</td>\n",
       "    </tr>\n",
       "    <tr>\n",
       "      <th>5</th>\n",
       "      <td>4.0</td>\n",
       "      <td>19.23</td>\n",
       "      <td>4.12</td>\n",
       "      <td>16.04</td>\n",
       "      <td>16.65</td>\n",
       "      <td>17.86</td>\n",
       "      <td>20.44</td>\n",
       "      <td>25.15</td>\n",
       "    </tr>\n",
       "  </tbody>\n",
       "</table>\n",
       "</div>"
      ],
      "text/plain": [
       "level_1   count   mean   std    min    25%    50%    75%    max\n",
       "plot_num                                                       \n",
       "1           4.0  18.13  4.05  15.10  16.01  16.67  18.80  24.09\n",
       "2           4.0  16.58  4.12  10.74  15.22  17.86  19.22  19.86\n",
       "3           4.0  16.48  2.79  13.60  14.47  16.33  18.34  19.66\n",
       "4           4.0  17.61  2.13  14.46  17.36  18.43  18.69  19.12\n",
       "5           4.0  19.23  4.12  16.04  16.65  17.86  20.44  25.15"
      ]
     },
     "execution_count": 109,
     "metadata": {},
     "output_type": "execute_result"
    },
    {
     "data": {
      "text/html": [
       " <span style='color:black'><h3>プロットごとの分布</h3> </span>  "
      ],
      "text/plain": [
       "<IPython.core.display.HTML object>"
      ]
     },
     "execution_count": 109,
     "metadata": {},
     "output_type": "execute_result"
    },
    {
     "data": {
      "text/plain": [
       "<matplotlib.axes._subplots.AxesSubplot at 0x7f648881f160>"
      ]
     },
     "execution_count": 109,
     "metadata": {},
     "output_type": "execute_result"
    },
    {
     "data": {
      "image/png": "[encoded data removed]",
      "text/plain": [
       "<Figure size 432x288 with 1 Axes>"
      ]
     },
     "metadata": {},
     "output_type": "display_data"
    },
    {
     "data": {
      "text/html": [
       " <span style='color:black'><h2>fugaのサマリー</h2> </span>  "
      ],
      "text/plain": [
       "<IPython.core.display.HTML object>"
      ]
     },
     "execution_count": 109,
     "metadata": {},
     "output_type": "execute_result"
    },
    {
     "data": {
      "text/html": [
       " <span style='color:black'><h3>プロットごとの要約統計量</h3> </span>  "
      ],
      "text/plain": [
       "<IPython.core.display.HTML object>"
      ]
     },
     "execution_count": 109,
     "metadata": {},
     "output_type": "execute_result"
    },
    {
     "data": {
      "text/html": [
       "<div>\n",
       "<style scoped>\n",
       "    .dataframe tbody tr th:only-of-type {\n",
       "        vertical-align: middle;\n",
       "    }\n",
       "\n",
       "    .dataframe tbody tr th {\n",
       "        vertical-align: top;\n",
       "    }\n",
       "\n",
       "    .dataframe thead th {\n",
       "        text-align: right;\n",
       "    }\n",
       "</style>\n",
       "<table border=\"1\" class=\"dataframe\">\n",
       "  <thead>\n",
       "    <tr style=\"text-align: right;\">\n",
       "      <th>level_1</th>\n",
       "      <th>unique</th>\n",
       "      <th>top</th>\n",
       "      <th>freq</th>\n",
       "    </tr>\n",
       "    <tr>\n",
       "      <th>plot_num</th>\n",
       "      <th></th>\n",
       "      <th></th>\n",
       "      <th></th>\n",
       "    </tr>\n",
       "  </thead>\n",
       "  <tbody>\n",
       "    <tr>\n",
       "      <th>1</th>\n",
       "      <td>1</td>\n",
       "      <td>fuga</td>\n",
       "      <td>1</td>\n",
       "    </tr>\n",
       "    <tr>\n",
       "      <th>2</th>\n",
       "      <td>1</td>\n",
       "      <td>fuga</td>\n",
       "      <td>1</td>\n",
       "    </tr>\n",
       "    <tr>\n",
       "      <th>3</th>\n",
       "      <td>1</td>\n",
       "      <td>fuga</td>\n",
       "      <td>1</td>\n",
       "    </tr>\n",
       "    <tr>\n",
       "      <th>4</th>\n",
       "      <td>1</td>\n",
       "      <td>fuga</td>\n",
       "      <td>1</td>\n",
       "    </tr>\n",
       "    <tr>\n",
       "      <th>5</th>\n",
       "      <td>1</td>\n",
       "      <td>fuga</td>\n",
       "      <td>1</td>\n",
       "    </tr>\n",
       "  </tbody>\n",
       "</table>\n",
       "</div>"
      ],
      "text/plain": [
       "level_1  unique   top freq\n",
       "plot_num                  \n",
       "1             1  fuga    1\n",
       "2             1  fuga    1\n",
       "3             1  fuga    1\n",
       "4             1  fuga    1\n",
       "5             1  fuga    1"
      ]
     },
     "execution_count": 109,
     "metadata": {},
     "output_type": "execute_result"
    }
   ],
   "source": [
    "## 項目ごとにサマリーとviolinplotを作成\n",
    "plot_name = \"plot_num\"\n",
    "\n",
    "\n",
    "unique_item = df.loc[:, \"item_name\"].unique()\n",
    "\n",
    "for itemi in unique_item:\n",
    "    dfi = df.loc[df.item_name==itemi]\n",
    "    \n",
    "    sample_koho_pre = np.array([\"sample_name\", \"random_sample_name\"])\n",
    "    samplenj = sample_koho_pre[np.array([(dfi.columns==i).any() for i in sample_koho_pre])][0]\n",
    "\n",
    "    HTML(f\" <span style='color:black'><h2>{itemi}のサマリー</h2> </span>  \")\n",
    "    \n",
    "    if (~dfi.loc[:, samplenj].isnull()).any():\n",
    "        dfi.loc[:, 'value'] = pd.to_numeric(dfi['value'])\n",
    "        dfi_summary_pre = dfi.groupby(plot_name)[\"value\"].apply(func).reset_index().round(2).pivot(index=plot_name, columns='level_1', values='value')\n",
    "        dfi_summary = dfi_summary_pre.loc[:, order_each(dfi_summary_pre.columns)]\n",
    "\n",
    "        HTML(f\" <span style='color:black'><h3>プロットごとの要約統計量</h3> </span>  \")\n",
    "        dfi_summary\n",
    "        \n",
    "        HTML(f\" <span style='color:black'><h3>プロットごとの分布</h3> </span>  \")\n",
    "        sns.violinplot(x=plot_name, y=\"value\", data=dfi)\n",
    "        plt.show()\n",
    "        plt.close()\n",
    "    \n",
    "    else:\n",
    "        dfi_summary_pre = dfi.groupby(plot_name)[\"value\"].apply(func).reset_index().round(2).pivot(index=plot_name, columns='level_1', values='value')\n",
    "        dfi_summary = dfi_summary_pre.loc[:, order_each(dfi_summary_pre.columns)]\n",
    "        HTML(f\" <span style='color:black'><h3>プロットごとの要約統計量</h3> </span>  \")\n",
    "        dfi_summary\n",
    "            "
   ]
  },
  {
   "cell_type": "code",
   "execution_count": null,
   "metadata": {
    "hideCode": true,
    "hidePrompt": true
   },
   "outputs": [],
   "source": []
  }
 ],
 "metadata": {
  "hide_code_all_hidden": true,
  "kernelspec": {
   "display_name": "Python 3",
   "language": "python",
   "name": "python3"
  },
  "language_info": {
   "codemirror_mode": {
    "name": "ipython",
    "version": 3
   },
   "file_extension": ".py",
   "mimetype": "text/x-python",
   "name": "python",
   "nbconvert_exporter": "python",
   "pygments_lexer": "ipython3",
   "version": "3.6.4"
  }
 },
 "nbformat": 4,
 "nbformat_minor": 4
}
